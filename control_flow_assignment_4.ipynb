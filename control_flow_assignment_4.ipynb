{
 "cells": [
  {
   "cell_type": "code",
   "execution_count": 1,
   "id": "24a2aeeb-ca00-4dae-9508-0534f7f05038",
   "metadata": {},
   "outputs": [],
   "source": [
    "#1) to check if a given number is positive or negative\n",
    "\n"
   ]
  },
  {
   "cell_type": "code",
   "execution_count": 4,
   "id": "3201d6df-34da-4f40-b1b8-0f2efa72931a",
   "metadata": {},
   "outputs": [
    {
     "name": "stdin",
     "output_type": "stream",
     "text": [
      " 37\n"
     ]
    }
   ],
   "source": [
    "i=int(input())"
   ]
  },
  {
   "cell_type": "code",
   "execution_count": 6,
   "id": "fe240546-4468-4633-8336-1e73ddc38c06",
   "metadata": {},
   "outputs": [
    {
     "name": "stdout",
     "output_type": "stream",
     "text": [
      "the number is positive\n"
     ]
    }
   ],
   "source": [
    "if (i>0):\n",
    "    print(\"the number is positive\")\n",
    "else:\n",
    "    print(\"the number is negative\")      "
   ]
  },
  {
   "cell_type": "code",
   "execution_count": 7,
   "id": "eef0f03f-8f48-4b48-a74d-9491637a9c53",
   "metadata": {},
   "outputs": [],
   "source": [
    "#2) to determine if a person is eligible to vote on basis of age\n",
    "\n"
   ]
  },
  {
   "cell_type": "code",
   "execution_count": 8,
   "id": "03abda6d-0b01-4d62-9f4f-fc74a1e1dc56",
   "metadata": {},
   "outputs": [
    {
     "name": "stdout",
     "output_type": "stream",
     "text": [
      "enter the eligible age to vote\n"
     ]
    }
   ],
   "source": [
    "print(\"enter the eligible age to vote\")"
   ]
  },
  {
   "cell_type": "code",
   "execution_count": 9,
   "id": "c211a5fe-da1d-49e4-849f-a094303892e1",
   "metadata": {},
   "outputs": [
    {
     "name": "stdin",
     "output_type": "stream",
     "text": [
      " 18\n"
     ]
    }
   ],
   "source": [
    "i=int(input())"
   ]
  },
  {
   "cell_type": "code",
   "execution_count": 10,
   "id": "a58f5480-5176-4e39-b961-8d1efa4065ee",
   "metadata": {},
   "outputs": [
    {
     "name": "stdout",
     "output_type": "stream",
     "text": [
      "enter the age\n"
     ]
    }
   ],
   "source": [
    "print(\"enter the age\")\n"
   ]
  },
  {
   "cell_type": "code",
   "execution_count": 11,
   "id": "f3e8e4dd-f06f-4e13-b7ff-4df3b06d45e8",
   "metadata": {},
   "outputs": [
    {
     "name": "stdin",
     "output_type": "stream",
     "text": [
      " 27\n"
     ]
    }
   ],
   "source": [
    "x=int(input())"
   ]
  },
  {
   "cell_type": "code",
   "execution_count": 12,
   "id": "55270b28-c467-4dfc-9046-740e35fa3756",
   "metadata": {},
   "outputs": [
    {
     "name": "stdout",
     "output_type": "stream",
     "text": [
      "you are eligible to vote\n"
     ]
    }
   ],
   "source": [
    "if(i<x):\n",
    "    print(\"you are eligible to vote\")\n",
    "else:\n",
    "    print(\"you are not eligiblr to vote\")\n",
    "    "
   ]
  },
  {
   "cell_type": "code",
   "execution_count": 13,
   "id": "cde3ea7f-682b-40a1-b671-3d605e76b0fe",
   "metadata": {},
   "outputs": [],
   "source": [
    "#3) to find maximum of two numbers\n",
    "\n"
   ]
  },
  {
   "cell_type": "code",
   "execution_count": 14,
   "id": "c4471420-2f1d-4b4e-a5d0-2408fae494e7",
   "metadata": {},
   "outputs": [
    {
     "name": "stdin",
     "output_type": "stream",
     "text": [
      " 32\n"
     ]
    }
   ],
   "source": [
    "x=int(input())"
   ]
  },
  {
   "cell_type": "code",
   "execution_count": 15,
   "id": "d3320937-60e0-423f-93b1-2c3d8c8ce016",
   "metadata": {},
   "outputs": [
    {
     "name": "stdin",
     "output_type": "stream",
     "text": [
      " 12\n"
     ]
    }
   ],
   "source": [
    "y=int(input())\n"
   ]
  },
  {
   "cell_type": "code",
   "execution_count": 16,
   "id": "7ea9ad83-b831-4ccf-b164-61670eaa7366",
   "metadata": {},
   "outputs": [
    {
     "name": "stdout",
     "output_type": "stream",
     "text": [
      "x is bigger than y\n"
     ]
    }
   ],
   "source": [
    "if(x>y):\n",
    "    print(\"x is bigger than y\")\n",
    "else:\n",
    "    print(\"y is bigger than x\")\n",
    "        \n",
    "    "
   ]
  },
  {
   "cell_type": "code",
   "execution_count": 17,
   "id": "1f7d39d8-f8d1-4dba-accd-81e63f6edcdb",
   "metadata": {},
   "outputs": [],
   "source": [
    "#4) to determine whether a given year is leap year or not\n",
    "\n"
   ]
  },
  {
   "cell_type": "code",
   "execution_count": 18,
   "id": "a499e739-4e35-46ff-b8b9-2fbb1161a6b6",
   "metadata": {},
   "outputs": [
    {
     "name": "stdout",
     "output_type": "stream",
     "text": [
      "enter a year\n"
     ]
    }
   ],
   "source": [
    "print(\"enter a year\")"
   ]
  },
  {
   "cell_type": "code",
   "execution_count": 19,
   "id": "b4226aed-9b04-4b42-9f68-1e31a9bd5ecf",
   "metadata": {},
   "outputs": [
    {
     "name": "stdin",
     "output_type": "stream",
     "text": [
      " 1997\n"
     ]
    }
   ],
   "source": [
    "i=int(input())"
   ]
  },
  {
   "cell_type": "code",
   "execution_count": 20,
   "id": "5a7e9b25-7f71-4e9f-ad22-ff44a54695c4",
   "metadata": {},
   "outputs": [
    {
     "name": "stdout",
     "output_type": "stream",
     "text": [
      "the given year is not a leap year\n"
     ]
    }
   ],
   "source": [
    "if(i%4==0):\n",
    "    print(\"the given year is a leap year\")\n",
    "else:\n",
    "    print(\"the given year is not a leap year\")"
   ]
  },
  {
   "cell_type": "code",
   "execution_count": 21,
   "id": "8d8e15bf-4d51-49f0-9435-967746286d7e",
   "metadata": {},
   "outputs": [],
   "source": [
    "#5) to check whether a character is a vowel or consonant\n",
    "\n"
   ]
  },
  {
   "cell_type": "code",
   "execution_count": 22,
   "id": "6a2eb45b-55a5-49c9-a5c9-7837eeb053b0",
   "metadata": {},
   "outputs": [
    {
     "name": "stdout",
     "output_type": "stream",
     "text": [
      "enter a character\n"
     ]
    }
   ],
   "source": [
    "print(\"enter a character\")"
   ]
  },
  {
   "cell_type": "code",
   "execution_count": 23,
   "id": "022a9d8e-b68b-4bbc-9e56-335237f431d2",
   "metadata": {},
   "outputs": [],
   "source": [
    "s=str(input)"
   ]
  },
  {
   "cell_type": "code",
   "execution_count": 24,
   "id": "cdf858a4-6744-4fde-bda5-61affb9bf2f2",
   "metadata": {},
   "outputs": [],
   "source": [
    "s='z'"
   ]
  },
  {
   "cell_type": "code",
   "execution_count": 25,
   "id": "28ae23f0-2bc6-4854-8ddb-83599eb90064",
   "metadata": {},
   "outputs": [
    {
     "name": "stdout",
     "output_type": "stream",
     "text": [
      "the given number is a consonant\n"
     ]
    }
   ],
   "source": [
    "if(s=='a' or s=='i' or s=='o' or s=='e' or s=='u'):\n",
    "    print(\"the given number is a vowel\")\n",
    "else:\n",
    "    print(\"the given number is a consonant\")"
   ]
  },
  {
   "cell_type": "code",
   "execution_count": 26,
   "id": "7202a059-19e1-462a-b8d9-6b8778a6e975",
   "metadata": {},
   "outputs": [],
   "source": [
    "#6) to determine whether a given  umber is odd or even\n",
    "\n"
   ]
  },
  {
   "cell_type": "code",
   "execution_count": 27,
   "id": "1fa9969c-44a6-4143-be1e-88ca36f50cd6",
   "metadata": {},
   "outputs": [
    {
     "name": "stdout",
     "output_type": "stream",
     "text": [
      "enter a number\n"
     ]
    }
   ],
   "source": [
    "print(\"enter a number\")"
   ]
  },
  {
   "cell_type": "code",
   "execution_count": 28,
   "id": "3f072ed7-d642-4fe9-a7d3-3c7baff7f8c8",
   "metadata": {},
   "outputs": [
    {
     "name": "stdin",
     "output_type": "stream",
     "text": [
      " 47\n"
     ]
    }
   ],
   "source": [
    "i=int(input())"
   ]
  },
  {
   "cell_type": "code",
   "execution_count": 29,
   "id": "6de03276-7937-4a45-9f8c-e4d2f4c2f6ea",
   "metadata": {},
   "outputs": [
    {
     "name": "stdout",
     "output_type": "stream",
     "text": [
      "the given number is odd\n"
     ]
    }
   ],
   "source": [
    "if(i%2==0):\n",
    "    print(\"the given number is even\")\n",
    "else:\n",
    "    print(\"the given number is odd\")\n"
   ]
  },
  {
   "cell_type": "code",
   "execution_count": 30,
   "id": "9c2b37c9-a93a-43a4-9327-77e078e2a2cf",
   "metadata": {},
   "outputs": [],
   "source": [
    "#7)to calculate absolute value of a number without using abs() function\n",
    "\n"
   ]
  },
  {
   "cell_type": "code",
   "execution_count": 31,
   "id": "715601db-7226-4fa7-954e-5e42fd05a6f0",
   "metadata": {},
   "outputs": [
    {
     "name": "stdout",
     "output_type": "stream",
     "text": [
      "enter the absolute number\n"
     ]
    }
   ],
   "source": [
    "print(\"enter the absolute number\")"
   ]
  },
  {
   "cell_type": "code",
   "execution_count": 40,
   "id": "bf68135f-0e48-4bf7-97c4-8244eedda286",
   "metadata": {},
   "outputs": [
    {
     "name": "stdin",
     "output_type": "stream",
     "text": [
      " -3\n"
     ]
    }
   ],
   "source": [
    "i=int(input())"
   ]
  },
  {
   "cell_type": "code",
   "execution_count": 41,
   "id": "fc61c026-e2ee-4de3-86a2-946a20882282",
   "metadata": {},
   "outputs": [
    {
     "name": "stdout",
     "output_type": "stream",
     "text": [
      "the absolute value is: 3\n"
     ]
    }
   ],
   "source": [
    "if(i<0):\n",
    "    value= i*-1\n",
    "    print(\"the absolute value is:\", value)\n",
    "else:\n",
    "    print(\"the absolute value is\")"
   ]
  },
  {
   "cell_type": "code",
   "execution_count": 42,
   "id": "9deff161-744a-48d2-a836-4394806f2dab",
   "metadata": {},
   "outputs": [],
   "source": [
    "#8) to determine the largest of the three given numbers\n",
    "\n"
   ]
  },
  {
   "cell_type": "code",
   "execution_count": 44,
   "id": "00f83516-abf0-48cd-a87a-ca56c40505d2",
   "metadata": {},
   "outputs": [
    {
     "name": "stdout",
     "output_type": "stream",
     "text": [
      "enter three numbers\n"
     ]
    }
   ],
   "source": [
    "print(\"enter three numbers\")"
   ]
  },
  {
   "cell_type": "code",
   "execution_count": 45,
   "id": "f52f3198-0243-479f-a2b9-8b3b357d4b3d",
   "metadata": {},
   "outputs": [],
   "source": [
    "i=12\n",
    "j=6\n",
    "k=9"
   ]
  },
  {
   "cell_type": "code",
   "execution_count": 66,
   "id": "7cf47f4f-c955-4f00-9b65-7322bc43bdd7",
   "metadata": {},
   "outputs": [
    {
     "name": "stdout",
     "output_type": "stream",
     "text": [
      " the greatest number is i\n"
     ]
    }
   ],
   "source": [
    "if(i>=j) and (i>=k):\n",
    "    print(\" the greatest number is i\")\n",
    "elif (j>=i) and (j>=k):\n",
    "    print(\"the greatest number is j\")\n",
    "else:\n",
    "    print(\"the greatest number is k\")"
   ]
  },
  {
   "cell_type": "code",
   "execution_count": 67,
   "id": "07b80689-52ab-468d-809f-7c96bbee4afc",
   "metadata": {},
   "outputs": [],
   "source": [
    "#9) to check if a string is pallindrome or not\n",
    "\n"
   ]
  },
  {
   "cell_type": "code",
   "execution_count": 68,
   "id": "905472d2-98db-407e-9f1d-8b34bb72781e",
   "metadata": {},
   "outputs": [],
   "source": [
    "s=str(input)"
   ]
  },
  {
   "cell_type": "code",
   "execution_count": 69,
   "id": "51a86523-afef-4cfe-95b4-e637b461a0e6",
   "metadata": {},
   "outputs": [],
   "source": [
    "s=\"rotator\"\n"
   ]
  },
  {
   "cell_type": "code",
   "execution_count": 71,
   "id": "1068486c-daa3-4816-8329-62954cfd7b2c",
   "metadata": {},
   "outputs": [
    {
     "name": "stdout",
     "output_type": "stream",
     "text": [
      "the string is pallindrome\n"
     ]
    }
   ],
   "source": [
    "if(s==s[::-1]):\n",
    "    print (\"the string is pallindrome\")\n",
    "else:\n",
    "        print(\"the string is not pallindrome\")"
   ]
  },
  {
   "cell_type": "code",
   "execution_count": 72,
   "id": "7a92fede-a66a-4e92-b3b9-7aa13f458d03",
   "metadata": {},
   "outputs": [],
   "source": [
    "#10) to calculate grade based on students score\n",
    "\n"
   ]
  },
  {
   "cell_type": "code",
   "execution_count": 73,
   "id": "d03c971f-a4fa-429b-b816-ba9f647995a1",
   "metadata": {},
   "outputs": [
    {
     "name": "stdout",
     "output_type": "stream",
     "text": [
      "enter the grades\n"
     ]
    }
   ],
   "source": [
    "print(\"enter the grades\")"
   ]
  },
  {
   "cell_type": "code",
   "execution_count": 74,
   "id": "dc5591e0-305d-4611-9f4c-013eaf3dbb27",
   "metadata": {},
   "outputs": [
    {
     "name": "stdin",
     "output_type": "stream",
     "text": [
      " 75\n"
     ]
    }
   ],
   "source": [
    "i=int(input())"
   ]
  },
  {
   "cell_type": "code",
   "execution_count": 75,
   "id": "59333979-b9f4-475e-8af9-45cc176c020a",
   "metadata": {},
   "outputs": [
    {
     "name": "stdout",
     "output_type": "stream",
     "text": [
      "C\n"
     ]
    }
   ],
   "source": [
    "if(90<=i<=100):\n",
    "    print(\"A\")\n",
    "elif(80<=i<=90):\n",
    "    print(\"B\")\n",
    "elif(70<=i<=80):\n",
    "    print(\"C\")\n",
    "elif(60<=i<=70):\n",
    "    print(\"D\")\n",
    "elif(50<=i<=60):\n",
    "    print(\"E\")\n",
    "elif(40<=i<=50):\n",
    "    print(\"F\")\n",
    "else:\n",
    "    print(\"FAIL\")\n"
   ]
  },
  {
   "cell_type": "code",
   "execution_count": 1,
   "id": "b18de55e-5897-488c-90f5-6d346588e8e8",
   "metadata": {},
   "outputs": [],
   "source": [
    "#11) to find largest among three numbers \n",
    "\n"
   ]
  },
  {
   "cell_type": "code",
   "execution_count": 5,
   "id": "1b25b8fe-2560-4cef-bb66-7c634a668195",
   "metadata": {},
   "outputs": [
    {
     "name": "stdout",
     "output_type": "stream",
     "text": [
      "enter three numbers\n"
     ]
    }
   ],
   "source": [
    "print(\"enter three numbers\")"
   ]
  },
  {
   "cell_type": "code",
   "execution_count": 6,
   "id": "31866411-30e5-4e99-81ef-cd53b4fd2a73",
   "metadata": {},
   "outputs": [],
   "source": [
    "i=12\n",
    "j=16\n",
    "k=19"
   ]
  },
  {
   "cell_type": "code",
   "execution_count": 7,
   "id": "8906a0e3-bba5-4705-aa51-195e5f8fb395",
   "metadata": {},
   "outputs": [
    {
     "name": "stdout",
     "output_type": "stream",
     "text": [
      "the greatest number is k\n"
     ]
    }
   ],
   "source": [
    "if(i>=j) and (i>=k):\n",
    "    print(\" the greatest number is i\")\n",
    "elif (j>=i) and (j>=k):\n",
    "    print(\"the greatest number is j\")\n",
    "else:\n",
    "    print(\"the greatest number is k\")"
   ]
  },
  {
   "cell_type": "code",
   "execution_count": 8,
   "id": "d3d898ef-016b-4ee9-ab7d-e1f7e0d07fad",
   "metadata": {},
   "outputs": [],
   "source": [
    "#12) to determine if a triangle is isosceles,scalene or equilateral\n",
    "\n"
   ]
  },
  {
   "cell_type": "code",
   "execution_count": 12,
   "id": "3f983ed0-889c-49dd-8c00-e281c4704bec",
   "metadata": {},
   "outputs": [
    {
     "name": "stdout",
     "output_type": "stream",
     "text": [
      "enter the angles of triangle\n"
     ]
    }
   ],
   "source": [
    "print(\"enter the angles of triangle\")"
   ]
  },
  {
   "cell_type": "code",
   "execution_count": 13,
   "id": "125f2d58-a382-4aac-9aa2-0766f7012d6d",
   "metadata": {},
   "outputs": [],
   "source": [
    "a=45\n",
    "b=60\n",
    "c=80"
   ]
  },
  {
   "cell_type": "code",
   "execution_count": 14,
   "id": "1df958f3-abf8-432f-bd17-2130562675b1",
   "metadata": {},
   "outputs": [
    {
     "name": "stdout",
     "output_type": "stream",
     "text": [
      "the triangle is scalene\n"
     ]
    }
   ],
   "source": [
    "if(a==b==c):\n",
    "    print(\"the triangle is equilateral\")\n",
    "elif(a==b or b==c or c==a):\n",
    "    print(\"the triangle is isoceles\")\n",
    "else:\n",
    "    print(\"the triangle is scalene\")\n",
    "    "
   ]
  },
  {
   "cell_type": "code",
   "execution_count": 15,
   "id": "810d287b-9d07-4350-95ce-6e09a2ac0a76",
   "metadata": {},
   "outputs": [],
   "source": [
    "#13) to check if a year is a leap year and also if it is a century year\n",
    "\n"
   ]
  },
  {
   "cell_type": "code",
   "execution_count": 16,
   "id": "d8e477d2-d293-45b5-9b71-27a7d3ad837c",
   "metadata": {},
   "outputs": [
    {
     "name": "stdout",
     "output_type": "stream",
     "text": [
      "enter a year\n"
     ]
    }
   ],
   "source": [
    "print(\"enter a year\")"
   ]
  },
  {
   "cell_type": "code",
   "execution_count": 17,
   "id": "342c5844-8564-4d39-af2c-ee17b01e4257",
   "metadata": {},
   "outputs": [
    {
     "name": "stdin",
     "output_type": "stream",
     "text": [
      " 2100\n"
     ]
    }
   ],
   "source": [
    "i=int(input())"
   ]
  },
  {
   "cell_type": "code",
   "execution_count": 18,
   "id": "b7194595-3429-4d62-9458-2df318436497",
   "metadata": {},
   "outputs": [
    {
     "name": "stdout",
     "output_type": "stream",
     "text": [
      "the year is a leap year as well as a century year\n"
     ]
    }
   ],
   "source": [
    "if(i%4==0 and i%100==0):\n",
    "    print(\"the year is a leap year as well as a century year\")\n",
    "else:\n",
    "    print(\"the year is neither a leap year nor a century year\")"
   ]
  },
  {
   "cell_type": "code",
   "execution_count": 19,
   "id": "eb558358-c409-4562-9963-a5c4fafeafe1",
   "metadata": {},
   "outputs": [],
   "source": [
    "#14)to determine if a number is positive, negative or zero\n",
    "\n"
   ]
  },
  {
   "cell_type": "code",
   "execution_count": 20,
   "id": "bb582249-ad85-4fce-bc27-11a1d51bc150",
   "metadata": {},
   "outputs": [
    {
     "name": "stdout",
     "output_type": "stream",
     "text": [
      "enter a number\n"
     ]
    }
   ],
   "source": [
    "print(\"enter a number\")"
   ]
  },
  {
   "cell_type": "code",
   "execution_count": 21,
   "id": "e4365506-b29c-4107-9734-617847386abb",
   "metadata": {},
   "outputs": [
    {
     "name": "stdin",
     "output_type": "stream",
     "text": [
      " -4\n"
     ]
    }
   ],
   "source": [
    "i=int(input())"
   ]
  },
  {
   "cell_type": "code",
   "execution_count": 22,
   "id": "3d7c63b2-bab5-48b4-b808-5bf06842954b",
   "metadata": {},
   "outputs": [
    {
     "name": "stdout",
     "output_type": "stream",
     "text": [
      "the number is negative\n"
     ]
    }
   ],
   "source": [
    "if(i<0):\n",
    "    print(\"the number is negative\")\n",
    "elif(i==0):\n",
    "    print(\"the number is zero\")\n",
    "else:\n",
    "    print(\"the number is positive\")"
   ]
  },
  {
   "cell_type": "code",
   "execution_count": 23,
   "id": "bd1d4cb3-c34c-46b7-bb3e-dff722d4ceaf",
   "metadata": {},
   "outputs": [],
   "source": [
    "#15) to check if a person is teenager or not(13-19)\n",
    "\n"
   ]
  },
  {
   "cell_type": "code",
   "execution_count": 24,
   "id": "7b847e31-8bfe-4129-9c62-0ec8c3dc1082",
   "metadata": {},
   "outputs": [
    {
     "name": "stdout",
     "output_type": "stream",
     "text": [
      "enter the age\n"
     ]
    }
   ],
   "source": [
    "print(\"enter the age\")"
   ]
  },
  {
   "cell_type": "code",
   "execution_count": 25,
   "id": "84930f6e-2a1a-4ba0-8e90-8713af0c2ab3",
   "metadata": {},
   "outputs": [
    {
     "name": "stdin",
     "output_type": "stream",
     "text": [
      " 23\n"
     ]
    }
   ],
   "source": [
    "i=int(input())"
   ]
  },
  {
   "cell_type": "code",
   "execution_count": 26,
   "id": "ac8b33df-f706-42bd-803e-199c4e096c94",
   "metadata": {},
   "outputs": [
    {
     "name": "stdout",
     "output_type": "stream",
     "text": [
      "the person is an adult\n"
     ]
    }
   ],
   "source": [
    "if(13<=i<=19):\n",
    "    print(\"the person is a teenager\")\n",
    "else:\n",
    "    print(\"the person is an adult\")"
   ]
  },
  {
   "cell_type": "code",
   "execution_count": 27,
   "id": "7ee9aac3-c85b-4892-bf1f-e44a1f641d88",
   "metadata": {},
   "outputs": [],
   "source": [
    "#16) to determine the angle based on its measure-acute ,obtuse, right\n",
    "\n"
   ]
  },
  {
   "cell_type": "code",
   "execution_count": 2,
   "id": "afc61263-1757-4c1d-a52e-c8a3d6dc6a5b",
   "metadata": {},
   "outputs": [
    {
     "name": "stdout",
     "output_type": "stream",
     "text": [
      "enter the angle\n"
     ]
    }
   ],
   "source": [
    "print(\"enter the angle\")"
   ]
  },
  {
   "cell_type": "code",
   "execution_count": 3,
   "id": "c83c4c9b-cf5f-4682-8a63-f35765e26e7a",
   "metadata": {},
   "outputs": [
    {
     "name": "stdin",
     "output_type": "stream",
     "text": [
      " 80\n"
     ]
    }
   ],
   "source": [
    "i=int(input())"
   ]
  },
  {
   "cell_type": "code",
   "execution_count": 4,
   "id": "f60b41b9-db9f-47df-b091-18f43379f84c",
   "metadata": {},
   "outputs": [
    {
     "name": "stdout",
     "output_type": "stream",
     "text": [
      "the angle is acute\n"
     ]
    }
   ],
   "source": [
    "if(60<=i<=90):\n",
    "    print(\"the angle is acute\")\n",
    "elif(i==90):\n",
    "    print(\"the angle is a right angle\")\n",
    "elif(90<=i<=180):\n",
    "    print(\"the angle if obtuse\")"
   ]
  },
  {
   "cell_type": "code",
   "execution_count": 5,
   "id": "bbf2b18f-8fb2-4437-b95f-66152989a6ca",
   "metadata": {},
   "outputs": [],
   "source": [
    "#17) to calculate the roots of a quadratic equation\n",
    "\n"
   ]
  },
  {
   "cell_type": "code",
   "execution_count": 6,
   "id": "3d8ee733-9a54-4597-bb4c-f76e69bb2138",
   "metadata": {},
   "outputs": [
    {
     "name": "stdout",
     "output_type": "stream",
     "text": [
      "equation: ax2+bx+c\n"
     ]
    }
   ],
   "source": [
    "print(\"equation: ax^2+bx+c\")"
   ]
  },
  {
   "cell_type": "code",
   "execution_count": 7,
   "id": "99f5e941-a6a0-4d0e-b6e0-9325e143d781",
   "metadata": {},
   "outputs": [
    {
     "name": "stdin",
     "output_type": "stream",
     "text": [
      " 1\n"
     ]
    }
   ],
   "source": [
    "a=int(input())"
   ]
  },
  {
   "cell_type": "code",
   "execution_count": 8,
   "id": "4fb7e2c1-1e56-4aa6-aa5e-1c3c68d98660",
   "metadata": {},
   "outputs": [
    {
     "name": "stdin",
     "output_type": "stream",
     "text": [
      " -5\n"
     ]
    }
   ],
   "source": [
    "b=int(input())"
   ]
  },
  {
   "cell_type": "code",
   "execution_count": 9,
   "id": "54b30157-482c-4d59-ba36-9ec188b83f1f",
   "metadata": {},
   "outputs": [
    {
     "name": "stdin",
     "output_type": "stream",
     "text": [
      " 6\n"
     ]
    }
   ],
   "source": [
    "c=int(input())"
   ]
  },
  {
   "cell_type": "code",
   "execution_count": 10,
   "id": "026d9001-f16a-41b5-a924-990a0f95bee1",
   "metadata": {},
   "outputs": [],
   "source": [
    "d=b**2-4*a*c"
   ]
  },
  {
   "cell_type": "code",
   "execution_count": 11,
   "id": "49f16467-8ae7-4e86-b57e-d30a6641f6c5",
   "metadata": {},
   "outputs": [],
   "source": [
    "e=d**0.5"
   ]
  },
  {
   "cell_type": "code",
   "execution_count": 16,
   "id": "267cbb56-e2ed-4b64-8519-2c3ce92aac39",
   "metadata": {},
   "outputs": [
    {
     "name": "stdout",
     "output_type": "stream",
     "text": [
      "the first root is: 3\n",
      "the second root is: 2\n"
     ]
    }
   ],
   "source": [
    "if(d<0):\n",
    "    print(\"the roots are imagianry\")\n",
    "else:\n",
    "    r1=(-b+e)/2*a\n",
    "    r2=(-b-e)/2*a\n",
    "    print(\"the first root is:\",round( r1))\n",
    "    print(\"the second root is:\",round(r2))"
   ]
  },
  {
   "cell_type": "code",
   "execution_count": 17,
   "id": "2b875fe8-b93a-4afc-9240-fec5c1c25e39",
   "metadata": {},
   "outputs": [],
   "source": [
    "#18) to determine the day of the week based on user based number\n",
    "\n"
   ]
  },
  {
   "cell_type": "code",
   "execution_count": 18,
   "id": "edd82001-2930-461e-b54e-ba0cc3c34cec",
   "metadata": {},
   "outputs": [
    {
     "name": "stdout",
     "output_type": "stream",
     "text": [
      "enter a number for day of week\n"
     ]
    }
   ],
   "source": [
    "print(\"enter a number for day of week\")"
   ]
  },
  {
   "cell_type": "code",
   "execution_count": 19,
   "id": "abe1889c-7cd8-4517-a13c-0d3d91975076",
   "metadata": {},
   "outputs": [
    {
     "name": "stdin",
     "output_type": "stream",
     "text": [
      " 4\n"
     ]
    }
   ],
   "source": [
    "i=int(input())"
   ]
  },
  {
   "cell_type": "code",
   "execution_count": 20,
   "id": "bd137169-9dad-4c3b-b4f8-aa7cbaf7afd5",
   "metadata": {},
   "outputs": [
    {
     "name": "stdout",
     "output_type": "stream",
     "text": [
      "Wednesday\n"
     ]
    }
   ],
   "source": [
    "if(i==1):\n",
    "    print(\"Sunday\")\n",
    "elif(i==2):\n",
    "    print(\"Monday\")\n",
    "elif(i==3):\n",
    "    print(\"Tuesday\")\n",
    "elif(i==4):\n",
    "    print(\"Wednesday\")\n",
    "elif(i==5):\n",
    "    print(\"Thursday\")\n",
    "elif(i==6):\n",
    "    print(\"Friday\")\n",
    "else:\n",
    "    print(\"Saturday\")\n",
    "    "
   ]
  },
  {
   "cell_type": "code",
   "execution_count": 21,
   "id": "2f3a6c31-0131-4aab-9cf4-b57548b36e89",
   "metadata": {},
   "outputs": [],
   "source": [
    "#19) to check if a year is a leap year and also if it is evenly divided by 400\n",
    "\n"
   ]
  },
  {
   "cell_type": "code",
   "execution_count": 26,
   "id": "226bb67e-2e63-4cf1-93c2-2935eae8350d",
   "metadata": {},
   "outputs": [
    {
     "name": "stdout",
     "output_type": "stream",
     "text": [
      "enter a year\n"
     ]
    }
   ],
   "source": [
    "print(\"enter a year\")"
   ]
  },
  {
   "cell_type": "code",
   "execution_count": 27,
   "id": "021471c6-5b3e-4ceb-8973-d7495b98d07c",
   "metadata": {},
   "outputs": [
    {
     "name": "stdin",
     "output_type": "stream",
     "text": [
      " 2600\n"
     ]
    }
   ],
   "source": [
    "i=int(input())"
   ]
  },
  {
   "cell_type": "code",
   "execution_count": 28,
   "id": "160c70dc-8720-43d3-b4cc-b2ada3a9d6ee",
   "metadata": {},
   "outputs": [
    {
     "name": "stdout",
     "output_type": "stream",
     "text": [
      "the year is a leap year\n"
     ]
    }
   ],
   "source": [
    "if(i%4==0):\n",
    "    print(\"the year is a leap year\")\n",
    "elif(i%4==0 and i%400==0):\n",
    "    print(\"the year is a leap year and divisible by 400\")\n",
    "elif(i%4!=0 and i%400==0):\n",
    "    print(\"the year is not a leap year but divisible by 400\")\n",
    "else:\n",
    "    print(\"the year is neither a leap year nor divisible by 400\")"
   ]
  },
  {
   "cell_type": "code",
   "execution_count": 29,
   "id": "3ca3ddd0-c3bc-479d-bb15-fc94eb072af9",
   "metadata": {},
   "outputs": [],
   "source": [
    "#20) to check if a given number is prime or not\n",
    "\n"
   ]
  },
  {
   "cell_type": "code",
   "execution_count": 40,
   "id": "45044259-e298-4db8-969a-0ffad3d5f28f",
   "metadata": {},
   "outputs": [
    {
     "name": "stdout",
     "output_type": "stream",
     "text": [
      "enter a number\n"
     ]
    }
   ],
   "source": [
    "print(\"enter a number\")"
   ]
  },
  {
   "cell_type": "code",
   "execution_count": 41,
   "id": "9ad2a4fd-7fde-4831-9b2e-0f4bc300cb39",
   "metadata": {},
   "outputs": [
    {
     "name": "stdin",
     "output_type": "stream",
     "text": [
      " 11\n"
     ]
    }
   ],
   "source": [
    "i=int(input())\n"
   ]
  },
  {
   "cell_type": "code",
   "execution_count": 42,
   "id": "f9345db0-6f63-4a8e-880e-e5f2b38858e4",
   "metadata": {},
   "outputs": [
    {
     "name": "stdout",
     "output_type": "stream",
     "text": [
      "11 is a prime number\n",
      "11 is a prime number\n",
      "11 is a prime number\n",
      "11 is a prime number\n"
     ]
    }
   ],
   "source": [
    "if(i>0):\n",
    "    for x in range (2, int(i/2)+1):\n",
    "        if(i%x==0):\n",
    "            print(i,\"is not a prime number\")\n",
    "            break\n",
    "        else:\n",
    "            print(i,\"is a prime number\")   "
   ]
  },
  {
   "cell_type": "code",
   "execution_count": 43,
   "id": "f9839c32-cd94-4eda-a83b-5a55f1330d41",
   "metadata": {},
   "outputs": [],
   "source": [
    "#21) to assign grades to a student on different range of scores\n",
    "\n"
   ]
  },
  {
   "cell_type": "code",
   "execution_count": 44,
   "id": "fbfdcdfd-f641-48ce-869b-375b05db7689",
   "metadata": {},
   "outputs": [
    {
     "name": "stdout",
     "output_type": "stream",
     "text": [
      "enter the grades\n"
     ]
    }
   ],
   "source": [
    "print(\"enter the grades\")"
   ]
  },
  {
   "cell_type": "code",
   "execution_count": 45,
   "id": "bb96a42d-89f5-47cb-beed-b0588d1db184",
   "metadata": {},
   "outputs": [
    {
     "name": "stdin",
     "output_type": "stream",
     "text": [
      " 40\n"
     ]
    }
   ],
   "source": [
    "i=int(input())\n"
   ]
  },
  {
   "cell_type": "code",
   "execution_count": 46,
   "id": "fb193c11-e38c-4f48-822d-5199b4ec38a7",
   "metadata": {},
   "outputs": [
    {
     "name": "stdout",
     "output_type": "stream",
     "text": [
      "F\n"
     ]
    }
   ],
   "source": [
    "if(90<=i<=100):\n",
    "    print(\"A\")\n",
    "elif(80<=i<=90):\n",
    "    print(\"B\")\n",
    "elif(70<=i<=80):\n",
    "    print(\"C\")\n",
    "elif(60<=i<=70):\n",
    "    print(\"D\")\n",
    "elif(50<=i<=60):\n",
    "    print(\"E\")\n",
    "elif(40<=i<=50):\n",
    "    print(\"F\")\n",
    "else:\n",
    "    print(\"FAIL\")\n"
   ]
  },
  {
   "cell_type": "code",
   "execution_count": 47,
   "id": "fc5f41b5-1305-47a7-839d-9e1d6f0de0f3",
   "metadata": {},
   "outputs": [],
   "source": [
    "#22) to determine a triangle based on its angle\n",
    "\n"
   ]
  },
  {
   "cell_type": "code",
   "execution_count": 48,
   "id": "910bc45a-88b0-468f-a719-f82269ce910e",
   "metadata": {},
   "outputs": [
    {
     "name": "stdout",
     "output_type": "stream",
     "text": [
      "enter the angles of the triangle\n"
     ]
    }
   ],
   "source": [
    "print(\"enter the angles of the triangle\")"
   ]
  },
  {
   "cell_type": "code",
   "execution_count": 49,
   "id": "b66b1b12-61d1-4fbd-9757-f84641347812",
   "metadata": {},
   "outputs": [
    {
     "name": "stdin",
     "output_type": "stream",
     "text": [
      " 60\n"
     ]
    }
   ],
   "source": [
    "x=int(input())"
   ]
  },
  {
   "cell_type": "code",
   "execution_count": 50,
   "id": "205b7057-be5f-4836-a0cf-a75367651e30",
   "metadata": {},
   "outputs": [
    {
     "name": "stdin",
     "output_type": "stream",
     "text": [
      " 60\n"
     ]
    }
   ],
   "source": [
    "y=int(input())"
   ]
  },
  {
   "cell_type": "code",
   "execution_count": 51,
   "id": "17d96d49-4ad0-4212-a986-f38ab75bf874",
   "metadata": {},
   "outputs": [
    {
     "name": "stdin",
     "output_type": "stream",
     "text": [
      " 80\n"
     ]
    }
   ],
   "source": [
    "z=int(input())"
   ]
  },
  {
   "cell_type": "code",
   "execution_count": 52,
   "id": "86e9aa32-4ff5-4600-9af6-a9b0d6331fc9",
   "metadata": {},
   "outputs": [
    {
     "name": "stdout",
     "output_type": "stream",
     "text": [
      "the triangle is isosceles\n"
     ]
    }
   ],
   "source": [
    "if(x==y==z):\n",
    "    print(\"the triangle is equilateral\")\n",
    "elif(x==y or y==z or z==x):\n",
    "    print(\"the triangle is isosceles\")\n",
    "else:\n",
    "    print(\"the triangle is scalene\")\n",
    "    "
   ]
  },
  {
   "cell_type": "code",
   "execution_count": 53,
   "id": "21823db5-9732-4388-b46f-6aec93953579",
   "metadata": {},
   "outputs": [],
   "source": [
    "#23) to characterize a person as overweight, obese,normal, underweight based on its BMI\n",
    "\n"
   ]
  },
  {
   "cell_type": "code",
   "execution_count": 54,
   "id": "5f7a9d33-e71d-41ef-925b-e5af20c8b0dc",
   "metadata": {},
   "outputs": [
    {
     "name": "stdout",
     "output_type": "stream",
     "text": [
      "enter the height\n"
     ]
    }
   ],
   "source": [
    "print(\"enter the height\")\n"
   ]
  },
  {
   "cell_type": "code",
   "execution_count": 61,
   "id": "612d8ec4-8c55-4db4-b6bf-495a51130119",
   "metadata": {},
   "outputs": [
    {
     "name": "stdin",
     "output_type": "stream",
     "text": [
      " 1.9\n"
     ]
    }
   ],
   "source": [
    "h=float(input())"
   ]
  },
  {
   "cell_type": "code",
   "execution_count": 62,
   "id": "757c6f89-70d4-402a-bf73-a49c24df439a",
   "metadata": {},
   "outputs": [
    {
     "name": "stdin",
     "output_type": "stream",
     "text": [
      " 80\n"
     ]
    }
   ],
   "source": [
    "w=int(input())"
   ]
  },
  {
   "cell_type": "code",
   "execution_count": 65,
   "id": "1aabcaff-8334-4fd1-972e-00715cde88aa",
   "metadata": {},
   "outputs": [],
   "source": [
    "BMI= w/float(h*h)"
   ]
  },
  {
   "cell_type": "code",
   "execution_count": 66,
   "id": "0456e959-b1f3-49f0-947e-6cba636aa623",
   "metadata": {},
   "outputs": [
    {
     "name": "stdout",
     "output_type": "stream",
     "text": [
      "normal\n"
     ]
    }
   ],
   "source": [
    "if(BMI<18.5):\n",
    "    print(\"underweight\")\n",
    "elif(18.5<=BMI<=25):\n",
    "    print(\"normal\")\n",
    "elif(25<=BMI<=30):\n",
    "    print(\"overweight\")\n",
    "elif(BMI>=30):  \n",
    "    print(\"obese\")"
   ]
  },
  {
   "cell_type": "code",
   "execution_count": 67,
   "id": "31b3d4a3-8d3b-4b68-9993-93cba6970426",
   "metadata": {},
   "outputs": [],
   "source": [
    "#24) to determine if a number is positive,negative or zero\n",
    "\n"
   ]
  },
  {
   "cell_type": "code",
   "execution_count": 68,
   "id": "4c6fbddb-6412-4fd4-876a-d0d52fcca684",
   "metadata": {},
   "outputs": [
    {
     "name": "stdout",
     "output_type": "stream",
     "text": [
      "enter a number\n"
     ]
    }
   ],
   "source": [
    "print(\"enter a number\")"
   ]
  },
  {
   "cell_type": "code",
   "execution_count": 69,
   "id": "b9d72c97-dd7f-4f5a-8408-79c6c550840e",
   "metadata": {},
   "outputs": [
    {
     "name": "stdin",
     "output_type": "stream",
     "text": [
      " -5\n"
     ]
    }
   ],
   "source": [
    "i=int(input())"
   ]
  },
  {
   "cell_type": "code",
   "execution_count": 70,
   "id": "ad944c8c-2fba-4b6f-8ed3-5e0ff1acbe44",
   "metadata": {},
   "outputs": [
    {
     "name": "stdout",
     "output_type": "stream",
     "text": [
      "the number is negative\n"
     ]
    }
   ],
   "source": [
    "if(i<0):\n",
    "    print(\"the number is negative\")\n",
    "elif(i>0):\n",
    "    print(\"the number is positive\")\n",
    "elif(i==0):\n",
    "    print(\"the number is zero\")"
   ]
  },
  {
   "cell_type": "code",
   "execution_count": 71,
   "id": "f330d3c4-d3db-434e-b3f7-a989632a3ecf",
   "metadata": {},
   "outputs": [],
   "source": [
    "#25) to determine the type of character-uppercase, lowercase or special\n",
    "\n"
   ]
  },
  {
   "cell_type": "code",
   "execution_count": 78,
   "id": "655b5166-5902-4987-a3b1-963113711783",
   "metadata": {},
   "outputs": [
    {
     "name": "stdout",
     "output_type": "stream",
     "text": [
      "enter a character\n"
     ]
    }
   ],
   "source": [
    "print(\"enter a character\")\n"
   ]
  },
  {
   "cell_type": "code",
   "execution_count": 79,
   "id": "87d69d9c-75f1-4321-9bc5-6c469348b37e",
   "metadata": {},
   "outputs": [],
   "source": [
    "s=str(input)"
   ]
  },
  {
   "cell_type": "code",
   "execution_count": 80,
   "id": "0dee20ee-00d3-4756-9dac-926eff63daa5",
   "metadata": {},
   "outputs": [],
   "source": [
    "s='d'"
   ]
  },
  {
   "cell_type": "code",
   "execution_count": 82,
   "id": "131dc55a-78bd-4359-9931-ec001c2e79b0",
   "metadata": {},
   "outputs": [
    {
     "name": "stdout",
     "output_type": "stream",
     "text": [
      "the character is lowercase\n"
     ]
    }
   ],
   "source": [
    "if(ord(s)<96):\n",
    "    print(\"the character is uppercase\")\n",
    "elif(ord(s)<122):\n",
    "    print(\"the character is lowercase\")\n",
    "elif(ord(s)=='!@#$%^&*'):\n",
    "     print(\"the character is special\")"
   ]
  },
  {
   "cell_type": "code",
   "execution_count": null,
   "id": "f48ec084-2f16-45e3-be06-9cc634138c5e",
   "metadata": {},
   "outputs": [],
   "source": [
    "#26 to calculate the discounted price based on different purchase items"
   ]
  },
  {
   "cell_type": "code",
   "execution_count": 85,
   "id": "7ee54f25-0220-43e6-8a28-e94f7a2c96fa",
   "metadata": {},
   "outputs": [
    {
     "name": "stdout",
     "output_type": "stream",
     "text": [
      "enter the amount\n"
     ]
    }
   ],
   "source": [
    "print(\"enter the amount\")\n"
   ]
  },
  {
   "cell_type": "code",
   "execution_count": 87,
   "id": "dd560909-181c-4432-a577-edde1922c53d",
   "metadata": {},
   "outputs": [
    {
     "name": "stdin",
     "output_type": "stream",
     "text": [
      " 5000\n"
     ]
    }
   ],
   "source": [
    "amt=int(input())"
   ]
  },
  {
   "cell_type": "code",
   "execution_count": 91,
   "id": "d0f35656-44f2-4dea-a138-8abd25d1f43b",
   "metadata": {},
   "outputs": [
    {
     "name": "stdout",
     "output_type": "stream",
     "text": [
      "discount=: 250.0\n",
      "net pay=: 4750.0\n"
     ]
    }
   ],
   "source": [
    "if(amt>0):\n",
    "    if(amt<=5000):\n",
    "        disc=amt*0.05\n",
    "    elif(amt<=10000):\n",
    "        disc=amt*0.10\n",
    "    elif(amt<=25000):\n",
    "        disc=amt*0.15\n",
    "    else:\n",
    "        disc=amt*0.20\n",
    "    print(\"discount=:\",disc)\n",
    "    print(\"net pay=:\",amt-disc)\n",
    "                \n",
    "        "
   ]
  },
  {
   "cell_type": "code",
   "execution_count": 92,
   "id": "3282f5e1-4aa1-4a85-97c2-d6bc352ef48a",
   "metadata": {},
   "outputs": [],
   "source": [
    "#27) to calculate electricity bill based on different consumption slabs\n",
    "\n"
   ]
  },
  {
   "cell_type": "code",
   "execution_count": 93,
   "id": "e863b12e-78e6-4d71-8907-bf2daf257272",
   "metadata": {},
   "outputs": [
    {
     "name": "stdout",
     "output_type": "stream",
     "text": [
      "please enter the amount consumed\n"
     ]
    }
   ],
   "source": [
    "print(\"please enter the amount consumed\")"
   ]
  },
  {
   "cell_type": "code",
   "execution_count": 94,
   "id": "895b0d24-d202-421a-b00e-a9ca8029ee66",
   "metadata": {},
   "outputs": [
    {
     "name": "stdin",
     "output_type": "stream",
     "text": [
      " 115\n"
     ]
    }
   ],
   "source": [
    "units=int(input())"
   ]
  },
  {
   "cell_type": "code",
   "execution_count": 97,
   "id": "e79bc95c-d138-4e31-b07a-65a3629bdb9f",
   "metadata": {},
   "outputs": [
    {
     "name": "stdout",
     "output_type": "stream",
     "text": [
      " electricity bill=: 237.5\n"
     ]
    }
   ],
   "source": [
    "if(units<=100):\n",
    "    pay=units*1.5\n",
    "    fixedcharge=25\n",
    "elif(units<=200):\n",
    "    pay=(100*1.5)+(units-100)*2.5\n",
    "    fixedcharge=50\n",
    "elif(units<=300):\n",
    "    pay=(100*1.5)+(200-100)*2.5+(units-200)*4\n",
    "    fixedcharge= 75\n",
    "elif(units<=350):\n",
    "    pay=(100*1.5)+(200-100)*2.5+(300-200)*4+(units-300)*5\n",
    "    fixedcharge=100\n",
    "else:\n",
    "    pay=0\n",
    "    fixedcharge=1500\n",
    "total= pay+fixedcharge    \n",
    "print(\" electricity bill=:\",total)   \n",
    "   "
   ]
  },
  {
   "cell_type": "code",
   "execution_count": 98,
   "id": "1ae988ef-6d9e-4c05-a816-bd8f9ba49b07",
   "metadata": {},
   "outputs": [],
   "source": [
    "#28) to determine the type of quadilateral on basis of side and angle\n",
    "\n"
   ]
  },
  {
   "cell_type": "code",
   "execution_count": 99,
   "id": "c9902b94-630f-4e1a-a7ad-c1108f6458dc",
   "metadata": {},
   "outputs": [
    {
     "name": "stdout",
     "output_type": "stream",
     "text": [
      "enter the sides\n"
     ]
    }
   ],
   "source": [
    "print(\"enter the sides\")\n"
   ]
  },
  {
   "cell_type": "code",
   "execution_count": 100,
   "id": "89dd6230-149a-4292-a225-e4f758558a5c",
   "metadata": {},
   "outputs": [],
   "source": [
    "i= 4\n",
    "j=6\n",
    "k=7\n",
    "l=6"
   ]
  },
  {
   "cell_type": "code",
   "execution_count": 101,
   "id": "4b0e3db7-7c56-48a7-95e6-36ffdfb804b5",
   "metadata": {},
   "outputs": [
    {
     "name": "stdout",
     "output_type": "stream",
     "text": [
      "enter the angle\n"
     ]
    }
   ],
   "source": [
    "print(\"enter the angle\")"
   ]
  },
  {
   "cell_type": "code",
   "execution_count": 102,
   "id": "e17d780a-7a22-4bf0-a485-0b72ca5cfcca",
   "metadata": {},
   "outputs": [],
   "source": [
    "angle=90"
   ]
  },
  {
   "cell_type": "code",
   "execution_count": 103,
   "id": "fb1c3604-21df-4365-9fe8-6505c1f86df2",
   "metadata": {},
   "outputs": [
    {
     "name": "stdout",
     "output_type": "stream",
     "text": [
      "the quadilateral is a trapezium\n"
     ]
    }
   ],
   "source": [
    "if(i==j==k==l and angle==90):\n",
    "    print(\"the quadilateral is a square\")\n",
    "elif(i==k and j==k and angle==90):\n",
    "    print(\"the quadilateral is a rectangle\")\n",
    "else:\n",
    "    print(\"the quadilateral is a trapezium\")\n",
    "  "
   ]
  },
  {
   "cell_type": "code",
   "execution_count": 104,
   "id": "4234c55b-b5c0-4f6a-b38a-fa9fd7c2c10a",
   "metadata": {},
   "outputs": [],
   "source": [
    "#29) to determine the season based on user provided month\n",
    "\n"
   ]
  },
  {
   "cell_type": "code",
   "execution_count": 105,
   "id": "5b693974-d34f-4cbc-9884-b6cdf95722ad",
   "metadata": {},
   "outputs": [
    {
     "name": "stdout",
     "output_type": "stream",
     "text": [
      "enter the month\n"
     ]
    }
   ],
   "source": [
    "print(\"enter the month\")"
   ]
  },
  {
   "cell_type": "code",
   "execution_count": 106,
   "id": "9cfec960-ce7b-4931-9357-8a9ec9e3e1b6",
   "metadata": {},
   "outputs": [],
   "source": [
    "s=str(input)"
   ]
  },
  {
   "cell_type": "code",
   "execution_count": 107,
   "id": "a4c7672a-6184-4af1-9472-2af585f07a5a",
   "metadata": {},
   "outputs": [],
   "source": [
    "s='december'"
   ]
  },
  {
   "cell_type": "code",
   "execution_count": 109,
   "id": "e3f385d4-8f82-434f-96f0-838b90196a6a",
   "metadata": {},
   "outputs": [
    {
     "name": "stdout",
     "output_type": "stream",
     "text": [
      "the season is winter\n"
     ]
    }
   ],
   "source": [
    "if(s=='december' or 'january' or 'february'):\n",
    "    print(\"the season is winter\")\n",
    "elif(s=='march' or 'april' or 'may'):\n",
    "    print(\"the season is summer\")\n",
    "elif(s=='june' or 'july' or 'august'):\n",
    "    print(\"the month is rainy\")\n",
    "elif(s=='september' or 'october' or 'november'):\n",
    "     print(\"the season is spring\")\n",
    "          \n",
    "          \n"
   ]
  },
  {
   "cell_type": "code",
   "execution_count": 110,
   "id": "047fa606-a539-4bfd-8d40-e28bbd29836c",
   "metadata": {},
   "outputs": [],
   "source": [
    "#30) to determine the type of year and the month\n",
    "\n"
   ]
  },
  {
   "cell_type": "code",
   "execution_count": 111,
   "id": "bc5a8bee-bac6-45ea-96a2-543b311a4da1",
   "metadata": {},
   "outputs": [
    {
     "name": "stdout",
     "output_type": "stream",
     "text": [
      "enter the year\n"
     ]
    }
   ],
   "source": [
    "print(\"enter the year\")"
   ]
  },
  {
   "cell_type": "code",
   "execution_count": 112,
   "id": "bb5ddff8-9588-4b57-bd3e-a38725eeaed0",
   "metadata": {},
   "outputs": [
    {
     "name": "stdin",
     "output_type": "stream",
     "text": [
      " 2100\n"
     ]
    }
   ],
   "source": [
    "i=int(input())"
   ]
  },
  {
   "cell_type": "code",
   "execution_count": 113,
   "id": "b226550d-ac6c-43a9-9818-fef66b640471",
   "metadata": {},
   "outputs": [
    {
     "name": "stdout",
     "output_type": "stream",
     "text": [
      "the year is a leap year\n"
     ]
    }
   ],
   "source": [
    "if(i%4==0):\n",
    "    print(\"the year is a leap year\")"
   ]
  },
  {
   "cell_type": "code",
   "execution_count": 114,
   "id": "3f246f4f-c5a4-41a2-b7cb-2e62f236af35",
   "metadata": {},
   "outputs": [
    {
     "name": "stdout",
     "output_type": "stream",
     "text": [
      "enter the month\n"
     ]
    }
   ],
   "source": [
    "print(\"enter the month\")"
   ]
  },
  {
   "cell_type": "code",
   "execution_count": 117,
   "id": "56de495e-9efa-4757-81fd-5682d4aab5ca",
   "metadata": {},
   "outputs": [],
   "source": [
    "s=str(input)"
   ]
  },
  {
   "cell_type": "code",
   "execution_count": 118,
   "id": "50e04c14-3260-4aeb-b612-97e1d85b4f82",
   "metadata": {},
   "outputs": [],
   "source": [
    "s='march'"
   ]
  },
  {
   "cell_type": "code",
   "execution_count": 119,
   "id": "db04c7dd-a8f2-4f37-8f69-07138abca13d",
   "metadata": {},
   "outputs": [
    {
     "name": "stdout",
     "output_type": "stream",
     "text": [
      "the montrh is of 31 days\n"
     ]
    }
   ],
   "source": [
    "if(s=='january' or 'march' or 'may' or 'july' or 'august' or 'october' or 'december'):\n",
    "    print(\"the montrh is of 31 days\")\n",
    "else:\n",
    "    print(\"the month is of 30 days\")"
   ]
  },
  {
   "cell_type": "code",
   "execution_count": null,
   "id": "ab3d1883-efeb-45dc-adbb-622b1815402e",
   "metadata": {},
   "outputs": [],
   "source": []
  }
 ],
 "metadata": {
  "kernelspec": {
   "display_name": "Python 3 (ipykernel)",
   "language": "python",
   "name": "python3"
  },
  "language_info": {
   "codemirror_mode": {
    "name": "ipython",
    "version": 3
   },
   "file_extension": ".py",
   "mimetype": "text/x-python",
   "name": "python",
   "nbconvert_exporter": "python",
   "pygments_lexer": "ipython3",
   "version": "3.10.6"
  }
 },
 "nbformat": 4,
 "nbformat_minor": 5
}
